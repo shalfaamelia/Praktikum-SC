{
 "cells": [
  {
   "cell_type": "markdown",
   "metadata": {},
   "source": [
    "**1. Menampilkan suatu string ke layar**"
   ]
  },
  {
   "cell_type": "code",
   "execution_count": 1,
   "metadata": {},
   "outputs": [
    {
     "name": "stdout",
     "output_type": "stream",
     "text": [
      "Halo Dunia\n"
     ]
    }
   ],
   "source": [
    "# mencetak string\n",
    "print(\"Halo Dunia\")"
   ]
  },
  {
   "cell_type": "markdown",
   "metadata": {},
   "source": [
    "**2. Menampilkan angka 123456 ke layar**"
   ]
  },
  {
   "cell_type": "code",
   "execution_count": 2,
   "metadata": {},
   "outputs": [
    {
     "name": "stdout",
     "output_type": "stream",
     "text": [
      "123456\n"
     ]
    }
   ],
   "source": [
    "print(\"123456\")"
   ]
  },
  {
   "cell_type": "markdown",
   "metadata": {},
   "source": [
    "**3. Menampilkan variabel yang tersimpan ke layar**"
   ]
  },
  {
   "cell_type": "code",
   "execution_count": 3,
   "metadata": {},
   "outputs": [
    {
     "name": "stdout",
     "output_type": "stream",
     "text": [
      "Ini variabel 1 9999\n"
     ]
    }
   ],
   "source": [
    "var1 = \"Ini variabel 1\"\n",
    "var2 = 9999\n",
    "\n",
    "print(var1,var2)"
   ]
  },
  {
   "cell_type": "markdown",
   "metadata": {},
   "source": [
    "**4. Tampilkan: \"Isi dari [var1] dan [var2] adalah ... \", dimana var1 dan var2 adalah isi\n",
    "dari variabel yang telah dideklarasikan di atas.**"
   ]
  },
  {
   "cell_type": "code",
   "execution_count": 4,
   "metadata": {},
   "outputs": [
    {
     "name": "stdout",
     "output_type": "stream",
     "text": [
      "Isi dari [var1] dan [var2] adalah Ini variabel 1 dan 9999\n"
     ]
    }
   ],
   "source": [
    "var1 = \"Ini variabel 1\"\n",
    "var2 = 9999\n",
    "\n",
    "print(\"Isi dari [var1] dan [var2] adalah\",var1,\"dan\",var2 )"
   ]
  },
  {
   "cell_type": "markdown",
   "metadata": {},
   "source": [
    "**5. Operasi aritmatika dasar. Lengkapi titik-titik tersebut dan tampilkan hasil\n",
    "operasinya.**"
   ]
  },
  {
   "cell_type": "code",
   "execution_count": 6,
   "metadata": {},
   "outputs": [
    {
     "name": "stdout",
     "output_type": "stream",
     "text": [
      "Hasil penambahan: 12\n",
      "Hasil pengurangan: 4\n",
      "Hasil perkalian: 32\n",
      "Hasil pembagian bulat: 2\n",
      "Hasil pembagian float: 2.0\n",
      "Hasil pangkat: 4096\n",
      "Hasil sisa hasil bagi: 0\n"
     ]
    }
   ],
   "source": [
    "x=8\n",
    "y=4\n",
    "penambahan = x+y\n",
    "pengurangan = x-y\n",
    "perkalian = x*y\n",
    "pembagian_bulat = x//y\n",
    "pembagian_float = x/y\n",
    "pangkat = x**y\n",
    "sisa_hasil_bagi = x%y\n",
    "\n",
    "print(\"Hasil penambahan:\", penambahan)\n",
    "print(\"Hasil pengurangan:\", pengurangan)\n",
    "print(\"Hasil perkalian:\", perkalian)\n",
    "print(\"Hasil pembagian bulat:\", pembagian_bulat)\n",
    "print(\"Hasil pembagian float:\", pembagian_float)\n",
    "print(\"Hasil pangkat:\", pangkat)\n",
    "print(\"Hasil sisa hasil bagi:\", sisa_hasil_bagi)"
   ]
  },
  {
   "cell_type": "markdown",
   "metadata": {},
   "source": [
    "**6. Operasi aritmatika menggunakan fungsi math. Lengkapi dan tampilkan hasilnya.**"
   ]
  },
  {
   "cell_type": "code",
   "execution_count": 8,
   "metadata": {},
   "outputs": [
    {
     "name": "stdout",
     "output_type": "stream",
     "text": [
      "Akar kuadrat dari 16: 4.0\n",
      "Pembulatan ke atas dari 5.3: 6\n",
      "Pangkat tiga dari 5: 125.0\n",
      "Akar pangkat tiga dari 64: 4.0\n"
     ]
    }
   ],
   "source": [
    "#import library math\n",
    "import math\n",
    "\n",
    "# Hitung akar kuafrat dari 16\n",
    "akar_kuadrat = math.sqrt(16)\n",
    "# Pembulatan ke bawah dari suatu bilangan\n",
    "pembulatan_bawah = math.floor(5.3)\n",
    "# Pembulatan ke atas dari suatu bilangan\n",
    "pembulatan_atas = math.ceil(5.3)\n",
    "# Hitung pangkat tiga dari 5\n",
    "pangkat_tiga =  math.pow(5,3)\n",
    "# Akar pangkat tiga\n",
    "akar_pangat_tiga = math.cbrt(64)\n",
    "\n",
    "print(\"Akar kuadrat dari 16:\", akar_kuadrat)\n",
    "print(\"Pembulatan ke atas dari 5.3:\", pembulatan_atas)\n",
    "print(\"Pangkat tiga dari 5:\", pangkat_tiga)\n",
    "print(\"Akar pangkat tiga dari 64:\", akar_pangat_tiga)"
   ]
  },
  {
   "cell_type": "markdown",
   "metadata": {},
   "source": [
    "**7. Sebuah kerucut memiliki t = 12cm, r = 5cm dan s = 20cm. Buatlah program untuk\n",
    "menghitung luas permukaan dan volumenya.**"
   ]
  },
  {
   "cell_type": "code",
   "execution_count": 12,
   "metadata": {},
   "outputs": [
    {
     "name": "stdout",
     "output_type": "stream",
     "text": [
      "Luas permukaan kerucut: 392.6990816987241 cm³\n",
      "Volume kerucut: 314.15926535897927 cm³\n"
     ]
    }
   ],
   "source": [
    "import math\n",
    "\n",
    "t = 12\n",
    "r = 5\n",
    "s = 20\n",
    "\n",
    "luas_permukaan = math.pi*r*(r+s)\n",
    "volume = (1/3)*math.pi*r**2*t\n",
    "\n",
    "print(\"Luas permukaan kerucut:\", luas_permukaan, \"cm³\")\n",
    "print(\"Volume kerucut:\", volume, \"cm³\")"
   ]
  },
  {
   "cell_type": "markdown",
   "metadata": {},
   "source": [
    "**8. Input dan Output**"
   ]
  },
  {
   "cell_type": "code",
   "execution_count": 13,
   "metadata": {},
   "outputs": [
    {
     "name": "stdout",
     "output_type": "stream",
     "text": [
      "Halo, Amel!\n"
     ]
    }
   ],
   "source": [
    "nama = input(\"Masukkan nama Anda: \")\n",
    "print(\"Halo, \" + nama + \"!\")"
   ]
  },
  {
   "cell_type": "markdown",
   "metadata": {},
   "source": [
    "**9. Buat sebuah input output untuk menghitung penjumlahan dari input 2 bilangan float**"
   ]
  },
  {
   "cell_type": "code",
   "execution_count": 17,
   "metadata": {},
   "outputs": [
    {
     "name": "stdout",
     "output_type": "stream",
     "text": [
      "Hasil penjumlahan dari 8.0 dan 4.5 adalah 12.5\n"
     ]
    }
   ],
   "source": [
    "# Memasukkan input bilangan\n",
    "bil1 = float(input(\"Masukkan bilangan pertama:\"))\n",
    "bil2 = float(input(\"Masukkan bilangan kedua:\"))\n",
    "\n",
    "# Rumus Penjumlahan\n",
    "penjumlahan = bil1 + bil2\n",
    "\n",
    "# Menampilkan hasil\n",
    "print(\"Hasil penjumlahan dari \" + str(bil1) + \" dan \" + str(bil2) + \" adalah \" + str(penjumlahan))"
   ]
  },
  {
   "cell_type": "markdown",
   "metadata": {},
   "source": [
    "**10. Menampilkan value dari variable menggunakan metode format {}**"
   ]
  },
  {
   "cell_type": "code",
   "execution_count": 18,
   "metadata": {},
   "outputs": [
    {
     "name": "stdout",
     "output_type": "stream",
     "text": [
      "Halo, nama saya Bambang dan saya berusia 20 tahun.\n"
     ]
    }
   ],
   "source": [
    "nama = \"Bambang\"\n",
    "umur = 20\n",
    "\n",
    "# Menggunakan metode format {}\n",
    "print(\"Halo, nama saya {} dan saya berusia {} tahun.\".format(nama, umur))"
   ]
  },
  {
   "cell_type": "markdown",
   "metadata": {},
   "source": [
    "**11. Buat program input-output menggunakan metode f-string.**"
   ]
  },
  {
   "cell_type": "code",
   "execution_count": 19,
   "metadata": {},
   "outputs": [
    {
     "name": "stdout",
     "output_type": "stream",
     "text": [
      "Nama saya adalah Amelia dan saya berusia 19 tahun.\n"
     ]
    }
   ],
   "source": [
    "# Masukkan input\n",
    "nama = input(\"Masukkan nama Anda: \")\n",
    "umur = input(\"Masukkan umur Anda: \")\n",
    "\n",
    "# Menampilkan hasil input\n",
    "print(f\"Nama saya adalah {nama} dan saya berusia {umur} tahun.\")"
   ]
  },
  {
   "cell_type": "markdown",
   "metadata": {},
   "source": [
    "**12. Pernyataan Berkondisi (if-else)**"
   ]
  },
  {
   "cell_type": "code",
   "execution_count": 21,
   "metadata": {},
   "outputs": [
    {
     "name": "stdout",
     "output_type": "stream",
     "text": [
      "Hasil 9.0 * 12.0 adalah 108.0\n"
     ]
    }
   ],
   "source": [
    "angka1 = float(input(\"Masukkan angka pertama:\"))\n",
    "angka2 = float(input(\"Masukkan angka kedua:\"))\n",
    "operasi =  input(\"Pilih operasi (+, -, *, /):\")\n",
    "\n",
    "if operasi == \"+\":\n",
    "    hasil = angka1+angka2\n",
    "elif operasi == \"-\":\n",
    "    hasil = angka1-angka2\n",
    "elif operasi == \"*\":\n",
    "    hasil = angka1*angka2\n",
    "elif operasi == \"/\":\n",
    "    if angka2 == 0:\n",
    "        print(\"Pembagian oleh nol tidak diizinkan.\")\n",
    "    else:\n",
    "        hasil = angka1/angka2\n",
    "else:\n",
    "    print(\"Operasi tidak valid\")\n",
    "\n",
    "if operasi in \"+-*/\":\n",
    "    print(f\"Hasil {angka1} {operasi} {angka2} adalah {hasil}\")"
   ]
  },
  {
   "cell_type": "markdown",
   "metadata": {},
   "source": [
    "**13. Program menentukan bilangan prima berdasarkan inputan**"
   ]
  },
  {
   "cell_type": "code",
   "execution_count": 23,
   "metadata": {},
   "outputs": [
    {
     "name": "stdout",
     "output_type": "stream",
     "text": [
      "Bilangan ini adalah bilangan prima\n"
     ]
    }
   ],
   "source": [
    "bilangan = int(input(\"Masukkan sebuah bilangan positif: \"))\n",
    "\n",
    "if bilangan <= 1:\n",
    "    print(\"Bukan bilangan prima\")\n",
    "else:\n",
    "    prima = True\n",
    "    for i in range(2, int(bilangan ** 0.5) + 1):\n",
    "        if bilangan % i == 0:\n",
    "            prima =  False\n",
    "            break\n",
    "    if prima:\n",
    "        print(\"Bilangan ini adalah bilangan prima\")\n",
    "    else:\n",
    "        print(\"Bilangan ini adalah bukan bilangan prima\")"
   ]
  },
  {
   "cell_type": "markdown",
   "metadata": {},
   "source": [
    "**14. While looping**"
   ]
  },
  {
   "cell_type": "code",
   "execution_count": 24,
   "metadata": {},
   "outputs": [
    {
     "name": "stdout",
     "output_type": "stream",
     "text": [
      "* \n",
      "* * \n",
      "* * * \n",
      "* * * * \n",
      "* * * * * \n"
     ]
    }
   ],
   "source": [
    "# Program menyusun segitiga\n",
    "baris = 1\n",
    "\n",
    "while baris <= 5:\n",
    "    kolom = 1\n",
    "    while kolom <= baris:\n",
    "        print(\"* \", end=\"\")\n",
    "        kolom += 1\n",
    "    print()\n",
    "    baris += 1"
   ]
  },
  {
   "cell_type": "markdown",
   "metadata": {},
   "source": [
    "**15. Ubahlah simbol * pada kode no 14 di atas menjadi sebuah urutan bilangan**"
   ]
  },
  {
   "cell_type": "code",
   "execution_count": 25,
   "metadata": {},
   "outputs": [
    {
     "name": "stdout",
     "output_type": "stream",
     "text": [
      "1\n",
      "22\n",
      "333\n",
      "4444\n",
      "55555\n"
     ]
    }
   ],
   "source": [
    "# Program menyusun segitiga\n",
    "baris = 1\n",
    "\n",
    "while baris <= 5:\n",
    "    kolom = 1\n",
    "    while kolom <= baris:\n",
    "        print(baris, end=\"\")\n",
    "        kolom += 1\n",
    "    print()\n",
    "    baris += 1"
   ]
  },
  {
   "cell_type": "markdown",
   "metadata": {},
   "source": [
    "**16. Program menentukan bilangan-bilangan ganjil sesuai urutan nilai yang diinput**"
   ]
  },
  {
   "cell_type": "code",
   "execution_count": 26,
   "metadata": {},
   "outputs": [
    {
     "name": "stdout",
     "output_type": "stream",
     "text": [
      "1\n",
      "3\n",
      "5\n",
      "7\n"
     ]
    }
   ],
   "source": [
    "N = int(input(\"Masukkan nilai N: \"))\n",
    "i = 1\n",
    "\n",
    "while i <= N:\n",
    "    if i % 2 != 0:\n",
    "        print(i)\n",
    "    i += 1"
   ]
  },
  {
   "cell_type": "markdown",
   "metadata": {},
   "source": [
    "**17.  Ubah program no 16 di atas untuk menentukan dan menjumlahkan semua bilangan genap sesuai nilai yang diinput**"
   ]
  },
  {
   "cell_type": "code",
   "execution_count": 29,
   "metadata": {},
   "outputs": [
    {
     "name": "stdout",
     "output_type": "stream",
     "text": [
      "2\n",
      "4\n",
      "6\n",
      "8\n",
      "Jumlah semua bilangan genap adalah 20\n"
     ]
    }
   ],
   "source": [
    "N = int(input(\"Masukkan nilai N: \"))\n",
    "i = 1\n",
    "jumlah = 0\n",
    "\n",
    "while i <= N:\n",
    "    if i % 2 == 0:\n",
    "        print(i)\n",
    "        jumlah += i\n",
    "    i += 1\n",
    "\n",
    "print(f\"Jumlah semua bilangan genap adalah {jumlah}\")"
   ]
  },
  {
   "cell_type": "markdown",
   "metadata": {},
   "source": [
    "**18. For Looping. Menampilkan setiap karakter dalam sebuah string.**"
   ]
  },
  {
   "cell_type": "code",
   "execution_count": 30,
   "metadata": {},
   "outputs": [
    {
     "name": "stdout",
     "output_type": "stream",
     "text": [
      "b\n",
      "u\n",
      "k\n",
      "u\n"
     ]
    }
   ],
   "source": [
    "kata = input(\"Masukkan sebuah kata: \")\n",
    "\n",
    "for karakter in kata:\n",
    "    print(karakter)"
   ]
  },
  {
   "cell_type": "markdown",
   "metadata": {},
   "source": [
    "**19. Program menghitung penjumlahan dari kumpulan bilangan ganjil**"
   ]
  },
  {
   "cell_type": "code",
   "execution_count": 31,
   "metadata": {},
   "outputs": [
    {
     "name": "stdout",
     "output_type": "stream",
     "text": [
      "Jumlah bilangan ganjil dari i hingga 9 adalah 25\n"
     ]
    }
   ],
   "source": [
    "N = int(input(\"Masukkan nilai N: \"))\n",
    "jumlah = 0\n",
    "\n",
    "# Urutan bil.bulat dari 1 hingga N dengan selisih 2 antara setiap angka\n",
    "for i in range(1, N+1, 2):\n",
    "    jumlah += i\n",
    "\n",
    "print(\"Jumlah bilangan ganjil dari i hingga\", N, \"adalah\", jumlah)"
   ]
  },
  {
   "cell_type": "markdown",
   "metadata": {},
   "source": [
    "**20. Function. Program dengan memanfaatkan fungsi aritmatika penjumlahan**"
   ]
  },
  {
   "cell_type": "code",
   "execution_count": 33,
   "metadata": {},
   "outputs": [
    {
     "name": "stdout",
     "output_type": "stream",
     "text": [
      "Hasil penjumlahan:  17\n"
     ]
    }
   ],
   "source": [
    "# fungsi penjumlahan\n",
    "def tambah(angka1, angka2):\n",
    "    hasil = angka1 + angka2\n",
    "    return hasil\n",
    "\n",
    "angka1 = 14\n",
    "angka2 = 3\n",
    "\n",
    "hasil_penjumlahan = tambah(angka1, angka2)\n",
    "print(\"Hasil penjumlahan: \", hasil_penjumlahan)"
   ]
  },
  {
   "cell_type": "markdown",
   "metadata": {},
   "source": [
    "**21. Tambahkan dan jalankan kembali fungsi menghitung sisa hasil pembagian untuk angka1 dan angka2 pada program no 20 di atas**"
   ]
  },
  {
   "cell_type": "code",
   "execution_count": 34,
   "metadata": {},
   "outputs": [
    {
     "name": "stdout",
     "output_type": "stream",
     "text": [
      "Hasil penjumlahan:  17\n",
      "Hasil sisa bagi:  2\n"
     ]
    }
   ],
   "source": [
    "# fungsi penjumlahan\n",
    "def tambah(angka1, angka2):\n",
    "    hasil = angka1 + angka2\n",
    "    return hasil\n",
    "\n",
    "# fungsi sisa bagi\n",
    "def sisa(angka1,angka2):\n",
    "    hasil = angka1 % angka2\n",
    "    return hasil\n",
    "\n",
    "angka1 = 14\n",
    "angka2 = 3\n",
    "\n",
    "hasil_penjumlahan = tambah(angka1, angka2)\n",
    "hasil_sisa_bagi = sisa(angka1, angka2)\n",
    "\n",
    "print(\"Hasil penjumlahan: \", hasil_penjumlahan)\n",
    "print(\"Hasil sisa bagi: \", hasil_sisa_bagi)"
   ]
  },
  {
   "cell_type": "markdown",
   "metadata": {},
   "source": [
    "**22. Buatlah sebuah program dengan fungsi untuk menghitung volume tabung berdasarkan inputan jari-jari dan tinggi**"
   ]
  },
  {
   "cell_type": "code",
   "execution_count": 38,
   "metadata": {},
   "outputs": [
    {
     "name": "stdout",
     "output_type": "stream",
     "text": [
      "Volume tabung dengan jari-jari 5.0 dan tinggi 10.0 adalah 785.40\n"
     ]
    }
   ],
   "source": [
    "import math\n",
    "\n",
    "# fungsi hitung volume tabung\n",
    "def volume(jari_jari, tinggi):\n",
    "    hasil = math.pi*(jari_jari ** 2)*tinggi\n",
    "    return hasil\n",
    "\n",
    "# Input jari-jari dan tinggi\n",
    "jari_jari = float(input(\"Masukkan jari-jari tabung: \"))\n",
    "tinggi = float(input(\"Masukkan tinggi tabung: \"))\n",
    "\n",
    "# Menghitung volume tabung\n",
    "vTabung = volume(jari_jari, tinggi)\n",
    "\n",
    "# Menampilkan hasil\n",
    "print(f\"Volume tabung dengan jari-jari {jari_jari} dan tinggi {tinggi} adalah {vTabung:.2f}\")"
   ]
  },
  {
   "cell_type": "markdown",
   "metadata": {},
   "source": [
    "**23. Array. Program menentukan salah satu elemen dari suatu list**"
   ]
  },
  {
   "cell_type": "code",
   "execution_count": 39,
   "metadata": {},
   "outputs": [
    {
     "name": "stdout",
     "output_type": "stream",
     "text": [
      "Nama orang pertama:  Andi\n",
      "Nama orang terakhir:  Eva\n"
     ]
    }
   ],
   "source": [
    "# Membuat list nama\n",
    "nama_orang = [\"Andi\", \"Budi\", \"Cita\", \"David\", \"Eva\"]\n",
    "\n",
    "# Mengakses elemen pertama dan terakhir\n",
    "nama_pertama = nama_orang[0]\n",
    "nama_terakhir = nama_orang[-1]\n",
    "\n",
    "print(\"Nama orang pertama: \", nama_pertama)\n",
    "print(\"Nama orang terakhir: \", nama_terakhir)"
   ]
  },
  {
   "cell_type": "markdown",
   "metadata": {},
   "source": [
    "**24. Tambahkan kode untuk menampilkan nama ke-2 & ke-3 dari list no 23 di atas**"
   ]
  },
  {
   "cell_type": "code",
   "execution_count": 40,
   "metadata": {},
   "outputs": [
    {
     "name": "stdout",
     "output_type": "stream",
     "text": [
      "Nama orang pertama:  Andi\n",
      "Nama orang kedua:  Budi\n",
      "Nama orang ketiga:  Cita\n",
      "Nama orang terakhir:  Eva\n"
     ]
    }
   ],
   "source": [
    "# Membuat list nama\n",
    "nama_orang = [\"Andi\", \"Budi\", \"Cita\", \"David\", \"Eva\"]\n",
    "\n",
    "# Mengakses elemen pertama dan terakhir\n",
    "nama_pertama = nama_orang[0]\n",
    "nama_terakhir = nama_orang[-1]\n",
    "nama_kedua = nama_orang[1]\n",
    "nama_ketiga = nama_orang[2]\n",
    "\n",
    "print(\"Nama orang pertama: \", nama_pertama)\n",
    "print(\"Nama orang kedua: \", nama_kedua)\n",
    "print(\"Nama orang ketiga: \", nama_ketiga)\n",
    "print(\"Nama orang terakhir: \", nama_terakhir)"
   ]
  },
  {
   "cell_type": "markdown",
   "metadata": {},
   "source": [
    "**25. Tambahkan nama \"Farid\" ke list di atas.**"
   ]
  },
  {
   "cell_type": "code",
   "execution_count": 41,
   "metadata": {},
   "outputs": [
    {
     "name": "stdout",
     "output_type": "stream",
     "text": [
      "Nama orang pertama:  Andi\n",
      "Nama orang kedua:  Budi\n",
      "Nama orang ketiga:  Cita\n",
      "Nama orang terakhir:  Farid\n"
     ]
    }
   ],
   "source": [
    "# Membuat list nama\n",
    "nama_orang = [\"Andi\", \"Budi\", \"Cita\", \"David\", \"Eva\", \"Farid\"]\n",
    "\n",
    "\n",
    "# Mengakses elemen pertama dan terakhir\n",
    "nama_pertama = nama_orang[0]\n",
    "nama_terakhir = nama_orang[-1]\n",
    "nama_kedua = nama_orang[1]\n",
    "nama_ketiga = nama_orang[2]\n",
    "\n",
    "print(\"Nama orang pertama: \", nama_pertama)\n",
    "print(\"Nama orang kedua: \", nama_kedua)\n",
    "print(\"Nama orang ketiga: \", nama_ketiga)\n",
    "print(\"Nama orang terakhir: \", nama_terakhir)"
   ]
  },
  {
   "cell_type": "markdown",
   "metadata": {},
   "source": [
    "**26. Hapus nama \"Andi\" pada list di atas.**"
   ]
  },
  {
   "cell_type": "code",
   "execution_count": 42,
   "metadata": {},
   "outputs": [
    {
     "name": "stdout",
     "output_type": "stream",
     "text": [
      "Nama orang pertama:  Budi\n",
      "Nama orang kedua:  Cita\n",
      "Nama orang ketiga:  David\n",
      "Nama orang terakhir:  Farid\n"
     ]
    }
   ],
   "source": [
    "# Membuat list nama\n",
    "nama_orang = [\"Budi\", \"Cita\", \"David\", \"Eva\", \"Farid\"]\n",
    "\n",
    "\n",
    "# Mengakses elemen pertama dan terakhir\n",
    "nama_pertama = nama_orang[0]\n",
    "nama_terakhir = nama_orang[-1]\n",
    "nama_kedua = nama_orang[1]\n",
    "nama_ketiga = nama_orang[2]\n",
    "\n",
    "print(\"Nama orang pertama: \", nama_pertama)\n",
    "print(\"Nama orang kedua: \", nama_kedua)\n",
    "print(\"Nama orang ketiga: \", nama_ketiga)\n",
    "print(\"Nama orang terakhir: \", nama_terakhir)"
   ]
  },
  {
   "cell_type": "markdown",
   "metadata": {},
   "source": [
    "**27. Membaca Matrix (list multidimensi)**"
   ]
  },
  {
   "cell_type": "code",
   "execution_count": 43,
   "metadata": {},
   "outputs": [
    {
     "name": "stdout",
     "output_type": "stream",
     "text": [
      "Elemen di baris 2, kolom 3: 6\n",
      "Jumlah baris: 4\n",
      "Jumlah kolom 3\n"
     ]
    }
   ],
   "source": [
    "# Matrix (list multidimensi)\n",
    "matrix = [\n",
    "    [1, 2, 3],\n",
    "    [4, 5, 6],\n",
    "    [7, 8, 9],\n",
    "    [2, 5, 8]\n",
    "]\n",
    "\n",
    "# Mengakses elemen di  baris 2, kolom 3\n",
    "elemen = matrix[1][2]\n",
    "\n",
    "# Menghitung jumlah baris dan kolom\n",
    "jumlah_baris = len(matrix)\n",
    "jumlah_kolom = len(matrix[0])\n",
    "\n",
    "print(\"Elemen di baris 2, kolom 3:\", elemen)\n",
    "print(\"Jumlah baris:\", jumlah_baris)\n",
    "print(\"Jumlah kolom\", jumlah_kolom)"
   ]
  },
  {
   "cell_type": "markdown",
   "metadata": {},
   "source": [
    "**28. Penjumlahan dua matrix menggunakan perulangan untuk mengiterasi melalui elemen-elemen matriks dan menjumlahkan elemen yang sesuai dari kedua matriks**"
   ]
  },
  {
   "cell_type": "code",
   "execution_count": 45,
   "metadata": {},
   "outputs": [
    {
     "name": "stdout",
     "output_type": "stream",
     "text": [
      "[16, 14, 11]\n",
      "[9, 6, 13]\n",
      "[4, 10, 4]\n"
     ]
    }
   ],
   "source": [
    "# Matriks pertama\n",
    "matriks1 = [\n",
    "    [7, 5, 2],\n",
    "    [4, 1, 8],\n",
    "    [3, 9, 3]\n",
    "]\n",
    "\n",
    "# Matriks kedua\n",
    "matriks2 = [\n",
    "    [9, 8, 7],\n",
    "    [6, 5, 4],\n",
    "    [3, 2, 1]\n",
    "]\n",
    "\n",
    "# Inisialisasi matriks hasil\n",
    "hasil_matriks = []\n",
    "\n",
    "# Melakukan penjumlahan matriks\n",
    "for i in range(len(matriks1)):\n",
    "    baris = []\n",
    "    for j in range(len(matriks1[0])):\n",
    "        hasil = matriks1[i][j] + matriks2[i][i]\n",
    "        baris.append(hasil)\n",
    "    hasil_matriks.append(baris)\n",
    "\n",
    "# Menampilkan matriks hasil\n",
    "for baris in hasil_matriks:\n",
    "    print(baris)"
   ]
  },
  {
   "cell_type": "markdown",
   "metadata": {},
   "source": [
    "**29. Try - Except. Program membaca file txt**"
   ]
  },
  {
   "cell_type": "code",
   "execution_count": 48,
   "metadata": {},
   "outputs": [
    {
     "name": "stdout",
     "output_type": "stream",
     "text": [
      "Terjadi kesalahan: <class 'Exception'>\n",
      "Program 'try except' telah selesai\n"
     ]
    }
   ],
   "source": [
    "try:\n",
    "    # Membuka file untuk dibaca\n",
    "    with open('demofile.txt', 'r') as file:\n",
    "        # Lakukan operasi pada file\n",
    "        data = file.read()\n",
    "        print(data)\n",
    "except:\n",
    "    print(\"Terjadi kesalahan:\", Exception)\n",
    "else:\n",
    "    print(\"Tidak ada kesalahan\")\n",
    "finally:\n",
    "    print(\"Program 'try except' telah selesai\")"
   ]
  },
  {
   "cell_type": "markdown",
   "metadata": {},
   "source": [
    "**30. Tambahkan exception: file tidak ditemukan (FileNotFoundError)**"
   ]
  },
  {
   "cell_type": "code",
   "execution_count": 50,
   "metadata": {},
   "outputs": [
    {
     "name": "stdout",
     "output_type": "stream",
     "text": [
      "Terjadi kesalahan file tidak ditemukan\n",
      "Program 'try except' telah selesai\n"
     ]
    }
   ],
   "source": [
    "try:\n",
    "    # Membuka file untuk dibaca\n",
    "    with open('demofile.txt', 'r') as file:\n",
    "        # Lakukan operasi pada file\n",
    "        data = file.read()\n",
    "        print(data)\n",
    "except FileNotFoundError:\n",
    "    print(\"Terjadi kesalahan file tidak ditemukan\")\n",
    "except Exception as e:\n",
    "    print(\"Terjadi kesalahan lainnya\")\n",
    "else:\n",
    "    print(\"Tidak ada kesalahan\")\n",
    "finally:\n",
    "    print(\"Program 'try except' telah selesai\")"
   ]
  },
  {
   "cell_type": "markdown",
   "metadata": {},
   "source": [
    "**31. Tambahkan exception: tidak memiliki izin membaca file (PermissionError)**"
   ]
  },
  {
   "cell_type": "code",
   "execution_count": 53,
   "metadata": {},
   "outputs": [
    {
     "name": "stdout",
     "output_type": "stream",
     "text": [
      "Terjadi kesalahan: [Errno 2] No such file or directory: 'demofile.txt'\n",
      "Program 'try except' telah selesai\n"
     ]
    }
   ],
   "source": [
    "try:\n",
    "    # Membuka file untuk dibaca\n",
    "    with open('demofile.txt', 'r') as file:\n",
    "        # Lakukan operasi pada file\n",
    "        data = file.read()\n",
    "        print(data)\n",
    "except PermissionError:\n",
    "    print(\"Tidak memiliki izin untuk membaca file (PermissionError)\")\n",
    "except Exception as e:\n",
    "    print(\"Terjadi kesalahan:\", e)\n",
    "else:\n",
    "    print(\"Tidak ada kesalahan\")\n",
    "finally:\n",
    "    print(\"Program 'try except' telah selesai\")"
   ]
  },
  {
   "cell_type": "markdown",
   "metadata": {},
   "source": [
    "**32. Menampilkan chart menggunakan library Matplotlib**"
   ]
  },
  {
   "cell_type": "code",
   "execution_count": 54,
   "metadata": {},
   "outputs": [
    {
     "data": {
      "image/png": "[encoded data removed]",
      "text/plain": [
       "<Figure size 640x480 with 1 Axes>"
      ]
     },
     "metadata": {},
     "output_type": "display_data"
    }
   ],
   "source": [
    "# Import library yang dibutuhkan\n",
    "import matplotlib.pyplot as plt\n",
    "\n",
    "# Data\n",
    "tahun = [2010, 2011, 2012, 2013, 2014, 2015]\n",
    "populasi = [112, 105, 118, 141, 121, 137]\n",
    "\n",
    "# Membuar line chart\n",
    "plt.plot(tahun, populasi, marker='o', linestyle='-')\n",
    "\n",
    "# Menambahkan label sumbu x, y\n",
    "plt.xlabel('Tahun')\n",
    "plt.ylabel('Populasi (juta)')\n",
    "\n",
    "# Menambahkan judul grafik\n",
    "plt.title('Grafik Populasi Kota X (2010-2015)')\n",
    "\n",
    "# Menampilkan grid\n",
    "plt.grid(True)\n",
    "\n",
    "# Menampilkan grafik\n",
    "plt.show()"
   ]
  },
  {
   "cell_type": "markdown",
   "metadata": {},
   "source": [
    "**33. Buatlah sebuah Bar Chart untuk merepresentasikan sebuah data penjualan berdasarkan bulan sesuai table pada file Excel yang telah Anda buat sebelumnya. Gunakan library Pandas untuk membaca file Excel. Tabel data penjualan dan hasil**"
   ]
  },
  {
   "cell_type": "code",
   "execution_count": 58,
   "metadata": {},
   "outputs": [
    {
     "data": {
      "image/png": "[encoded data removed]",
      "text/plain": [
       "<Figure size 640x480 with 1 Axes>"
      ]
     },
     "metadata": {},
     "output_type": "display_data"
    }
   ],
   "source": [
    "# Import library yang diperlukan\n",
    "import pandas as pd\n",
    "import matplotlib.pyplot as plt\n",
    "\n",
    "# Membaca file Excel\n",
    "file_path = 'Modul 2.xlsx'\n",
    "data = pd.read_excel(file_path)\n",
    "\n",
    "# Perbaiki nama kolom\n",
    "data.rename(columns={'Penjualan': 'Penjualan'}, inplace=True)\n",
    "\n",
    "# Membuat bar chart\n",
    "plt.bar(data['Bulan'], data['Penjualan'], color='blue')\n",
    "\n",
    "# Menambahkan label dan judul\n",
    "plt.xlabel('Bulan')\n",
    "plt.ylabel('Penjualan (ribuan)')\n",
    "plt.title('Grafik Penjualan Produk per Bulan')\n",
    "\n",
    "# Menampilkan grafik\n",
    "plt.show()"
   ]
  }
 ],
 "metadata": {
  "kernelspec": {
   "display_name": "Python 3",
   "language": "python",
   "name": "python3"
  },
  "language_info": {
   "codemirror_mode": {
    "name": "ipython",
    "version": 3
   },
   "file_extension": ".py",
   "mimetype": "text/x-python",
   "name": "python",
   "nbconvert_exporter": "python",
   "pygments_lexer": "ipython3",
   "version": "3.12.5"
  }
 },
 "nbformat": 4,
 "nbformat_minor": 2
}
